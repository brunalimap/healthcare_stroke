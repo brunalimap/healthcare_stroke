{
 "cells": [
  {
   "cell_type": "markdown",
   "metadata": {},
   "source": [
    "# 0.0 Imports"
   ]
  },
  {
   "cell_type": "code",
   "execution_count": 1,
   "metadata": {
    "ExecuteTime": {
     "end_time": "2021-03-26T17:34:03.631207Z",
     "start_time": "2021-03-26T17:34:01.623644Z"
    }
   },
   "outputs": [],
   "source": [
    "import math\n",
    "import inflection\n",
    "import warnings\n",
    "\n",
    "import numpy             as np\n",
    "import pandas            as pd\n",
    "import seaborn           as sns\n",
    "import matplotlib.pyplot as plt\n",
    "\n",
    "from IPython.core.display  import HTML\n",
    "from IPython.display       import Image\n"
   ]
  },
  {
   "cell_type": "markdown",
   "metadata": {},
   "source": [
    "## 0.1. Helper Functions"
   ]
  },
  {
   "cell_type": "code",
   "execution_count": 21,
   "metadata": {
    "ExecuteTime": {
     "end_time": "2021-03-26T17:37:05.848409Z",
     "start_time": "2021-03-26T17:37:05.820603Z"
    }
   },
   "outputs": [],
   "source": [
    "def num_metrics(num_attributes):\n",
    "    #Central tendencian - mean, median\n",
    "    ct1 = pd.DataFrame( num_attributes.apply(np.mean)).T\n",
    "    ct2 = pd.DataFrame(num_attributes.apply(np.median)).T\n",
    "\n",
    "    #Dispersion - std, min, max, range, skew, kurtosis\n",
    "\n",
    "    d1 = pd.DataFrame(num_attributes.apply(np.std)).T\n",
    "    d2 = pd.DataFrame(num_attributes.apply(min)).T\n",
    "    d3 = pd.DataFrame(num_attributes.apply(max)).T\n",
    "    d4 = pd.DataFrame(num_attributes.apply(lambda x: x.max() - x.min() )).T\n",
    "    d5 = pd.DataFrame(num_attributes.apply(lambda x: x.skew() )).T\n",
    "    d6 = pd.DataFrame(num_attributes.apply(lambda x: x.kurtosis() )).T\n",
    "\n",
    "    #Concatenate\n",
    "    metrics = pd.concat([d2, d3, d4, ct1, ct2, d1, d5, d6]).T.reset_index()\n",
    "    metrics.columns = ['attributes','min', 'max', 'range', 'mean', 'median', 'std', 'skew','kurtosis']\n",
    "    return metrics\n",
    "\n",
    "\n",
    "def rename_columns( cols_update, data):\n",
    "\n",
    "    snakecase = lambda x: inflection.underscore(x)\n",
    "\n",
    "    cols_new = list(map(snakecase, cols_old))\n",
    "\n",
    "    #Rename of columns\n",
    "    data.columns = cols_new\n",
    "    \n",
    "    return data.sample()\n",
    "\n",
    "def jupyter_settings():\n",
    "    \n",
    "    %matplotlib inline \n",
    "    %pylab inline\n",
    "    \n",
    "    plt.style.use('bmh')\n",
    "    plt.rcParams['figure.figsize']=[20,10]\n",
    "    plt.rcParams['font.size']=10\n",
    "    \n",
    "    display( HTML('<style>.container {width:80% !important; }</style>'))\n",
    "    pd.options.display.max_columns = None\n",
    "    pd.options.display.max_rows = None\n",
    "    pd.set_option('display.expand_frame_repr',False )\n",
    "    \n",
    "    sns.set()"
   ]
  },
  {
   "cell_type": "code",
   "execution_count": 22,
   "metadata": {
    "ExecuteTime": {
     "end_time": "2021-03-26T17:37:06.716560Z",
     "start_time": "2021-03-26T17:37:06.701697Z"
    }
   },
   "outputs": [
    {
     "name": "stdout",
     "output_type": "stream",
     "text": [
      "Populating the interactive namespace from numpy and matplotlib\n"
     ]
    },
    {
     "data": {
      "text/html": [
       "<style>.container {width:80% !important; }</style>"
      ],
      "text/plain": [
       "<IPython.core.display.HTML object>"
      ]
     },
     "metadata": {},
     "output_type": "display_data"
    }
   ],
   "source": [
    "jupyter_settings()\n",
    "warnings.filterwarnings ('ignore')"
   ]
  },
  {
   "cell_type": "markdown",
   "metadata": {
    "heading_collapsed": true
   },
   "source": [
    "## 0.2 Loading Data"
   ]
  },
  {
   "cell_type": "code",
   "execution_count": 4,
   "metadata": {
    "ExecuteTime": {
     "end_time": "2021-03-26T17:34:03.852434Z",
     "start_time": "2021-03-26T17:34:03.775013Z"
    },
    "hidden": true
   },
   "outputs": [],
   "source": [
    "#Loading datasets\n",
    "df_raw = pd.read_csv('../data/healthcare-dataset-stroke-data.csv', low_memory=False)"
   ]
  },
  {
   "cell_type": "code",
   "execution_count": 5,
   "metadata": {
    "ExecuteTime": {
     "end_time": "2021-03-26T17:34:03.907000Z",
     "start_time": "2021-03-26T17:34:03.856175Z"
    },
    "hidden": true
   },
   "outputs": [
    {
     "data": {
      "text/html": [
       "<div>\n",
       "<style scoped>\n",
       "    .dataframe tbody tr th:only-of-type {\n",
       "        vertical-align: middle;\n",
       "    }\n",
       "\n",
       "    .dataframe tbody tr th {\n",
       "        vertical-align: top;\n",
       "    }\n",
       "\n",
       "    .dataframe thead th {\n",
       "        text-align: right;\n",
       "    }\n",
       "</style>\n",
       "<table border=\"1\" class=\"dataframe\">\n",
       "  <thead>\n",
       "    <tr style=\"text-align: right;\">\n",
       "      <th></th>\n",
       "      <th>id</th>\n",
       "      <th>gender</th>\n",
       "      <th>age</th>\n",
       "      <th>hypertension</th>\n",
       "      <th>heart_disease</th>\n",
       "      <th>ever_married</th>\n",
       "      <th>work_type</th>\n",
       "      <th>Residence_type</th>\n",
       "      <th>avg_glucose_level</th>\n",
       "      <th>bmi</th>\n",
       "      <th>smoking_status</th>\n",
       "      <th>stroke</th>\n",
       "    </tr>\n",
       "  </thead>\n",
       "  <tbody>\n",
       "    <tr>\n",
       "      <th>0</th>\n",
       "      <td>9046</td>\n",
       "      <td>Male</td>\n",
       "      <td>67.0</td>\n",
       "      <td>0</td>\n",
       "      <td>1</td>\n",
       "      <td>Yes</td>\n",
       "      <td>Private</td>\n",
       "      <td>Urban</td>\n",
       "      <td>228.69</td>\n",
       "      <td>36.6</td>\n",
       "      <td>formerly smoked</td>\n",
       "      <td>1</td>\n",
       "    </tr>\n",
       "    <tr>\n",
       "      <th>1</th>\n",
       "      <td>51676</td>\n",
       "      <td>Female</td>\n",
       "      <td>61.0</td>\n",
       "      <td>0</td>\n",
       "      <td>0</td>\n",
       "      <td>Yes</td>\n",
       "      <td>Self-employed</td>\n",
       "      <td>Rural</td>\n",
       "      <td>202.21</td>\n",
       "      <td>NaN</td>\n",
       "      <td>never smoked</td>\n",
       "      <td>1</td>\n",
       "    </tr>\n",
       "    <tr>\n",
       "      <th>2</th>\n",
       "      <td>31112</td>\n",
       "      <td>Male</td>\n",
       "      <td>80.0</td>\n",
       "      <td>0</td>\n",
       "      <td>1</td>\n",
       "      <td>Yes</td>\n",
       "      <td>Private</td>\n",
       "      <td>Rural</td>\n",
       "      <td>105.92</td>\n",
       "      <td>32.5</td>\n",
       "      <td>never smoked</td>\n",
       "      <td>1</td>\n",
       "    </tr>\n",
       "    <tr>\n",
       "      <th>3</th>\n",
       "      <td>60182</td>\n",
       "      <td>Female</td>\n",
       "      <td>49.0</td>\n",
       "      <td>0</td>\n",
       "      <td>0</td>\n",
       "      <td>Yes</td>\n",
       "      <td>Private</td>\n",
       "      <td>Urban</td>\n",
       "      <td>171.23</td>\n",
       "      <td>34.4</td>\n",
       "      <td>smokes</td>\n",
       "      <td>1</td>\n",
       "    </tr>\n",
       "    <tr>\n",
       "      <th>4</th>\n",
       "      <td>1665</td>\n",
       "      <td>Female</td>\n",
       "      <td>79.0</td>\n",
       "      <td>1</td>\n",
       "      <td>0</td>\n",
       "      <td>Yes</td>\n",
       "      <td>Self-employed</td>\n",
       "      <td>Rural</td>\n",
       "      <td>174.12</td>\n",
       "      <td>24.0</td>\n",
       "      <td>never smoked</td>\n",
       "      <td>1</td>\n",
       "    </tr>\n",
       "  </tbody>\n",
       "</table>\n",
       "</div>"
      ],
      "text/plain": [
       "      id  gender   age  hypertension  heart_disease ever_married      work_type Residence_type  avg_glucose_level   bmi   smoking_status  stroke\n",
       "0   9046    Male  67.0             0              1          Yes        Private          Urban             228.69  36.6  formerly smoked       1\n",
       "1  51676  Female  61.0             0              0          Yes  Self-employed          Rural             202.21   NaN     never smoked       1\n",
       "2  31112    Male  80.0             0              1          Yes        Private          Rural             105.92  32.5     never smoked       1\n",
       "3  60182  Female  49.0             0              0          Yes        Private          Urban             171.23  34.4           smokes       1\n",
       "4   1665  Female  79.0             1              0          Yes  Self-employed          Rural             174.12  24.0     never smoked       1"
      ]
     },
     "execution_count": 5,
     "metadata": {},
     "output_type": "execute_result"
    }
   ],
   "source": [
    "df_raw.head()"
   ]
  },
  {
   "cell_type": "markdown",
   "metadata": {
    "ExecuteTime": {
     "end_time": "2021-03-26T15:03:00.305695Z",
     "start_time": "2021-03-26T15:03:00.302031Z"
    }
   },
   "source": [
    "# 1.0 Data Description"
   ]
  },
  {
   "cell_type": "markdown",
   "metadata": {
    "heading_collapsed": true
   },
   "source": [
    "## 1.1. Rename Columns"
   ]
  },
  {
   "cell_type": "code",
   "execution_count": 6,
   "metadata": {
    "ExecuteTime": {
     "end_time": "2021-03-26T17:34:03.939716Z",
     "start_time": "2021-03-26T17:34:03.928633Z"
    },
    "hidden": true
   },
   "outputs": [],
   "source": [
    "df1 = df_raw.copy()"
   ]
  },
  {
   "cell_type": "code",
   "execution_count": 7,
   "metadata": {
    "ExecuteTime": {
     "end_time": "2021-03-26T17:34:03.972431Z",
     "start_time": "2021-03-26T17:34:03.963435Z"
    },
    "hidden": true
   },
   "outputs": [
    {
     "data": {
      "text/plain": [
       "Index(['id', 'gender', 'age', 'hypertension', 'heart_disease', 'ever_married',\n",
       "       'work_type', 'Residence_type', 'avg_glucose_level', 'bmi',\n",
       "       'smoking_status', 'stroke'],\n",
       "      dtype='object')"
      ]
     },
     "execution_count": 7,
     "metadata": {},
     "output_type": "execute_result"
    }
   ],
   "source": [
    "df1.columns"
   ]
  },
  {
   "cell_type": "code",
   "execution_count": 8,
   "metadata": {
    "ExecuteTime": {
     "end_time": "2021-03-26T17:34:04.116237Z",
     "start_time": "2021-03-26T17:34:04.004941Z"
    },
    "hidden": true
   },
   "outputs": [
    {
     "data": {
      "text/html": [
       "<div>\n",
       "<style scoped>\n",
       "    .dataframe tbody tr th:only-of-type {\n",
       "        vertical-align: middle;\n",
       "    }\n",
       "\n",
       "    .dataframe tbody tr th {\n",
       "        vertical-align: top;\n",
       "    }\n",
       "\n",
       "    .dataframe thead th {\n",
       "        text-align: right;\n",
       "    }\n",
       "</style>\n",
       "<table border=\"1\" class=\"dataframe\">\n",
       "  <thead>\n",
       "    <tr style=\"text-align: right;\">\n",
       "      <th></th>\n",
       "      <th>id</th>\n",
       "      <th>gender</th>\n",
       "      <th>age</th>\n",
       "      <th>hypertension</th>\n",
       "      <th>heart_disease</th>\n",
       "      <th>ever_married</th>\n",
       "      <th>work_type</th>\n",
       "      <th>residence_type</th>\n",
       "      <th>avg_glucose_level</th>\n",
       "      <th>bmi</th>\n",
       "      <th>smoking_status</th>\n",
       "      <th>stroke</th>\n",
       "    </tr>\n",
       "  </thead>\n",
       "  <tbody>\n",
       "    <tr>\n",
       "      <th>1997</th>\n",
       "      <td>60139</td>\n",
       "      <td>Female</td>\n",
       "      <td>32.0</td>\n",
       "      <td>0</td>\n",
       "      <td>0</td>\n",
       "      <td>Yes</td>\n",
       "      <td>Self-employed</td>\n",
       "      <td>Rural</td>\n",
       "      <td>128.72</td>\n",
       "      <td>26.3</td>\n",
       "      <td>smokes</td>\n",
       "      <td>0</td>\n",
       "    </tr>\n",
       "  </tbody>\n",
       "</table>\n",
       "</div>"
      ],
      "text/plain": [
       "         id  gender   age  hypertension  heart_disease ever_married      work_type residence_type  avg_glucose_level   bmi smoking_status  stroke\n",
       "1997  60139  Female  32.0             0              0          Yes  Self-employed          Rural             128.72  26.3         smokes       0"
      ]
     },
     "execution_count": 8,
     "metadata": {},
     "output_type": "execute_result"
    }
   ],
   "source": [
    "cols_old = ['id', 'gender', 'age', 'hypertension', 'heart_disease', 'ever_married',\n",
    "            'work_type', 'Residence_type', 'avg_glucose_level', 'bmi',\n",
    "            'smoking_status', 'stroke'] \n",
    "\n",
    "rename_columns(cols_old,df1)"
   ]
  },
  {
   "cell_type": "markdown",
   "metadata": {
    "heading_collapsed": true
   },
   "source": [
    "## 1.2. Data Dimension"
   ]
  },
  {
   "cell_type": "code",
   "execution_count": 9,
   "metadata": {
    "ExecuteTime": {
     "end_time": "2021-03-26T17:34:04.140179Z",
     "start_time": "2021-03-26T17:34:04.120181Z"
    },
    "hidden": true
   },
   "outputs": [
    {
     "name": "stdout",
     "output_type": "stream",
     "text": [
      "Number rows: 5110\n",
      "Number cols: 12\n"
     ]
    }
   ],
   "source": [
    "print('Number rows: {}'.format(df1.shape[0]))\n",
    "print('Number cols: {}'.format(df1.shape[1]))"
   ]
  },
  {
   "cell_type": "markdown",
   "metadata": {
    "heading_collapsed": true
   },
   "source": [
    "## 1.3. Data Types"
   ]
  },
  {
   "cell_type": "code",
   "execution_count": 10,
   "metadata": {
    "ExecuteTime": {
     "end_time": "2021-03-26T17:34:04.203186Z",
     "start_time": "2021-03-26T17:34:04.144847Z"
    },
    "hidden": true
   },
   "outputs": [
    {
     "data": {
      "text/plain": [
       "id                     int64\n",
       "gender                object\n",
       "age                  float64\n",
       "hypertension           int64\n",
       "heart_disease          int64\n",
       "ever_married          object\n",
       "work_type             object\n",
       "residence_type        object\n",
       "avg_glucose_level    float64\n",
       "bmi                  float64\n",
       "smoking_status        object\n",
       "stroke                 int64\n",
       "dtype: object"
      ]
     },
     "execution_count": 10,
     "metadata": {},
     "output_type": "execute_result"
    }
   ],
   "source": [
    "df1.dtypes"
   ]
  },
  {
   "cell_type": "markdown",
   "metadata": {
    "heading_collapsed": true
   },
   "source": [
    "## 1.4. Check NA"
   ]
  },
  {
   "cell_type": "code",
   "execution_count": 11,
   "metadata": {
    "ExecuteTime": {
     "end_time": "2021-03-26T17:34:04.276583Z",
     "start_time": "2021-03-26T17:34:04.208091Z"
    },
    "hidden": true
   },
   "outputs": [
    {
     "data": {
      "text/plain": [
       "id                     0\n",
       "gender                 0\n",
       "age                    0\n",
       "hypertension           0\n",
       "heart_disease          0\n",
       "ever_married           0\n",
       "work_type              0\n",
       "residence_type         0\n",
       "avg_glucose_level      0\n",
       "bmi                  201\n",
       "smoking_status         0\n",
       "stroke                 0\n",
       "dtype: int64"
      ]
     },
     "execution_count": 11,
     "metadata": {},
     "output_type": "execute_result"
    }
   ],
   "source": [
    "df1.isna().sum()"
   ]
  },
  {
   "cell_type": "markdown",
   "metadata": {
    "heading_collapsed": true
   },
   "source": [
    "## 1.5. Fillout NA"
   ]
  },
  {
   "cell_type": "markdown",
   "metadata": {
    "hidden": true
   },
   "source": [
    "Observações:\n",
    "\n",
    "- Indice de massa corporal como eles tem valores nulos pode ser que não foi feito o cálculo nestes pacientes.\n",
    "- Como o dataset não é muito grande excluir não seria ideal.\n",
    "- Pode trocar pela média dos valores acho que é uma estratégia."
   ]
  },
  {
   "cell_type": "code",
   "execution_count": 12,
   "metadata": {
    "ExecuteTime": {
     "end_time": "2021-03-26T17:34:04.301975Z",
     "start_time": "2021-03-26T17:34:04.284147Z"
    },
    "hidden": true
   },
   "outputs": [
    {
     "data": {
      "text/plain": [
       "28.89"
      ]
     },
     "execution_count": 12,
     "metadata": {},
     "output_type": "execute_result"
    }
   ],
   "source": [
    "np.round(df1['bmi'].mean(),2)"
   ]
  },
  {
   "cell_type": "code",
   "execution_count": 13,
   "metadata": {
    "ExecuteTime": {
     "end_time": "2021-03-26T17:34:04.345801Z",
     "start_time": "2021-03-26T17:34:04.315745Z"
    },
    "hidden": true
   },
   "outputs": [],
   "source": [
    "df1['bmi'] = df1['bmi'].apply(lambda x: 28.89 if math.isnan(x) else x)"
   ]
  },
  {
   "cell_type": "code",
   "execution_count": 14,
   "metadata": {
    "ExecuteTime": {
     "end_time": "2021-03-26T17:34:04.385183Z",
     "start_time": "2021-03-26T17:34:04.356235Z"
    },
    "hidden": true
   },
   "outputs": [
    {
     "data": {
      "text/plain": [
       "id                   0\n",
       "gender               0\n",
       "age                  0\n",
       "hypertension         0\n",
       "heart_disease        0\n",
       "ever_married         0\n",
       "work_type            0\n",
       "residence_type       0\n",
       "avg_glucose_level    0\n",
       "bmi                  0\n",
       "smoking_status       0\n",
       "stroke               0\n",
       "dtype: int64"
      ]
     },
     "execution_count": 14,
     "metadata": {},
     "output_type": "execute_result"
    }
   ],
   "source": [
    "df1.isna().sum()"
   ]
  },
  {
   "cell_type": "markdown",
   "metadata": {
    "heading_collapsed": true
   },
   "source": [
    "## 1.6. Change"
   ]
  },
  {
   "cell_type": "markdown",
   "metadata": {
    "heading_collapsed": true
   },
   "source": [
    "## 1.7. Descriptive Statistical"
   ]
  },
  {
   "cell_type": "code",
   "execution_count": 15,
   "metadata": {
    "ExecuteTime": {
     "end_time": "2021-03-26T17:34:04.424705Z",
     "start_time": "2021-03-26T17:34:04.388414Z"
    },
    "hidden": true
   },
   "outputs": [],
   "source": [
    "#Separate categorical variables from numeric variables\n",
    "\n",
    "num_attributes = df1.select_dtypes(include = ['int64', 'float64'])\n",
    "cat_attributes=df1.select_dtypes(include = ['object'])"
   ]
  },
  {
   "cell_type": "markdown",
   "metadata": {
    "heading_collapsed": true,
    "hidden": true
   },
   "source": [
    "### 1.7.1 Numerical Attributes"
   ]
  },
  {
   "cell_type": "code",
   "execution_count": 16,
   "metadata": {
    "ExecuteTime": {
     "end_time": "2021-03-26T17:34:04.517955Z",
     "start_time": "2021-03-26T17:34:04.429031Z"
    },
    "hidden": true
   },
   "outputs": [
    {
     "data": {
      "text/html": [
       "<div>\n",
       "<style scoped>\n",
       "    .dataframe tbody tr th:only-of-type {\n",
       "        vertical-align: middle;\n",
       "    }\n",
       "\n",
       "    .dataframe tbody tr th {\n",
       "        vertical-align: top;\n",
       "    }\n",
       "\n",
       "    .dataframe thead th {\n",
       "        text-align: right;\n",
       "    }\n",
       "</style>\n",
       "<table border=\"1\" class=\"dataframe\">\n",
       "  <thead>\n",
       "    <tr style=\"text-align: right;\">\n",
       "      <th></th>\n",
       "      <th>attributes</th>\n",
       "      <th>min</th>\n",
       "      <th>max</th>\n",
       "      <th>range</th>\n",
       "      <th>mean</th>\n",
       "      <th>median</th>\n",
       "      <th>std</th>\n",
       "      <th>skew</th>\n",
       "      <th>kurtosis</th>\n",
       "    </tr>\n",
       "  </thead>\n",
       "  <tbody>\n",
       "    <tr>\n",
       "      <th>0</th>\n",
       "      <td>id</td>\n",
       "      <td>67.00</td>\n",
       "      <td>72940.00</td>\n",
       "      <td>72873.00</td>\n",
       "      <td>36517.829354</td>\n",
       "      <td>36932.000</td>\n",
       "      <td>21159.650905</td>\n",
       "      <td>-0.019913</td>\n",
       "      <td>-1.212368</td>\n",
       "    </tr>\n",
       "    <tr>\n",
       "      <th>1</th>\n",
       "      <td>age</td>\n",
       "      <td>0.08</td>\n",
       "      <td>82.00</td>\n",
       "      <td>81.92</td>\n",
       "      <td>43.226614</td>\n",
       "      <td>45.000</td>\n",
       "      <td>22.610434</td>\n",
       "      <td>-0.137059</td>\n",
       "      <td>-0.991010</td>\n",
       "    </tr>\n",
       "    <tr>\n",
       "      <th>2</th>\n",
       "      <td>hypertension</td>\n",
       "      <td>0.00</td>\n",
       "      <td>1.00</td>\n",
       "      <td>1.00</td>\n",
       "      <td>0.097456</td>\n",
       "      <td>0.000</td>\n",
       "      <td>0.296578</td>\n",
       "      <td>2.715392</td>\n",
       "      <td>5.375456</td>\n",
       "    </tr>\n",
       "    <tr>\n",
       "      <th>3</th>\n",
       "      <td>heart_disease</td>\n",
       "      <td>0.00</td>\n",
       "      <td>1.00</td>\n",
       "      <td>1.00</td>\n",
       "      <td>0.054012</td>\n",
       "      <td>0.000</td>\n",
       "      <td>0.226041</td>\n",
       "      <td>3.947244</td>\n",
       "      <td>13.586052</td>\n",
       "    </tr>\n",
       "    <tr>\n",
       "      <th>4</th>\n",
       "      <td>avg_glucose_level</td>\n",
       "      <td>55.12</td>\n",
       "      <td>271.74</td>\n",
       "      <td>216.62</td>\n",
       "      <td>106.147677</td>\n",
       "      <td>91.885</td>\n",
       "      <td>45.279129</td>\n",
       "      <td>1.572284</td>\n",
       "      <td>1.680479</td>\n",
       "    </tr>\n",
       "    <tr>\n",
       "      <th>5</th>\n",
       "      <td>bmi</td>\n",
       "      <td>10.30</td>\n",
       "      <td>97.60</td>\n",
       "      <td>87.30</td>\n",
       "      <td>28.893110</td>\n",
       "      <td>28.400</td>\n",
       "      <td>7.697265</td>\n",
       "      <td>1.076766</td>\n",
       "      <td>3.623133</td>\n",
       "    </tr>\n",
       "    <tr>\n",
       "      <th>6</th>\n",
       "      <td>stroke</td>\n",
       "      <td>0.00</td>\n",
       "      <td>1.00</td>\n",
       "      <td>1.00</td>\n",
       "      <td>0.048728</td>\n",
       "      <td>0.000</td>\n",
       "      <td>0.215299</td>\n",
       "      <td>4.193284</td>\n",
       "      <td>15.589736</td>\n",
       "    </tr>\n",
       "  </tbody>\n",
       "</table>\n",
       "</div>"
      ],
      "text/plain": [
       "          attributes    min       max     range          mean     median           std      skew   kurtosis\n",
       "0                 id  67.00  72940.00  72873.00  36517.829354  36932.000  21159.650905 -0.019913  -1.212368\n",
       "1                age   0.08     82.00     81.92     43.226614     45.000     22.610434 -0.137059  -0.991010\n",
       "2       hypertension   0.00      1.00      1.00      0.097456      0.000      0.296578  2.715392   5.375456\n",
       "3      heart_disease   0.00      1.00      1.00      0.054012      0.000      0.226041  3.947244  13.586052\n",
       "4  avg_glucose_level  55.12    271.74    216.62    106.147677     91.885     45.279129  1.572284   1.680479\n",
       "5                bmi  10.30     97.60     87.30     28.893110     28.400      7.697265  1.076766   3.623133\n",
       "6             stroke   0.00      1.00      1.00      0.048728      0.000      0.215299  4.193284  15.589736"
      ]
     },
     "execution_count": 16,
     "metadata": {},
     "output_type": "execute_result"
    }
   ],
   "source": [
    "num_metrics(num_attributes)"
   ]
  },
  {
   "cell_type": "markdown",
   "metadata": {
    "heading_collapsed": true,
    "hidden": true
   },
   "source": [
    "### 1.7.2 Categorical Attributes"
   ]
  },
  {
   "cell_type": "code",
   "execution_count": 17,
   "metadata": {
    "ExecuteTime": {
     "end_time": "2021-03-26T17:34:04.534306Z",
     "start_time": "2021-03-26T17:34:04.520689Z"
    },
    "hidden": true
   },
   "outputs": [
    {
     "data": {
      "text/plain": [
       "gender            3\n",
       "ever_married      2\n",
       "work_type         5\n",
       "residence_type    2\n",
       "smoking_status    4\n",
       "dtype: int64"
      ]
     },
     "execution_count": 17,
     "metadata": {},
     "output_type": "execute_result"
    }
   ],
   "source": [
    "cat_attributes.apply(lambda x: x.unique().shape[0])"
   ]
  },
  {
   "cell_type": "code",
   "execution_count": 18,
   "metadata": {
    "ExecuteTime": {
     "end_time": "2021-03-26T17:34:08.119659Z",
     "start_time": "2021-03-26T17:34:04.536834Z"
    },
    "hidden": true
   },
   "outputs": [
    {
     "data": {
      "image/png": "[encoded data removed]",
      "text/plain": [
       "<Figure size 1152x576 with 5 Axes>"
      ]
     },
     "metadata": {},
     "output_type": "display_data"
    }
   ],
   "source": [
    "plt.figure(figsize=(16,8))\n",
    "\n",
    "\n",
    "#Gender\n",
    "plt.subplot(3, 2, 1)\n",
    "sns.countplot(data=df1,x='gender',hue='stroke');\n",
    "\n",
    "# Ever Married\n",
    "plt.subplot(3, 2, 2)\n",
    "sns.countplot( data=df1,x='ever_married',hue='stroke');\n",
    "\n",
    "# Work Type\n",
    "plt.subplot(3, 2, 3)\n",
    "sns.countplot(data=df1,x='work_type',hue='stroke');\n",
    "\n",
    "#Residence Type\n",
    "plt.subplot(3, 2, 4)\n",
    "sns.countplot( data=df1,x='residence_type',hue='stroke');\n",
    "\n",
    "# Smoking Status\n",
    "plt.subplot(3, 2, 5)\n",
    "sns.countplot(data=df1,x='smoking_status',hue='stroke');"
   ]
  },
  {
   "cell_type": "markdown",
   "metadata": {},
   "source": [
    "# 2.0 Feature Engineering"
   ]
  },
  {
   "cell_type": "markdown",
   "metadata": {},
   "source": [
    "## 2.1 Hypothesis Map"
   ]
  },
  {
   "cell_type": "code",
   "execution_count": 24,
   "metadata": {
    "ExecuteTime": {
     "end_time": "2021-03-26T17:37:39.742631Z",
     "start_time": "2021-03-26T17:37:39.732091Z"
    }
   },
   "outputs": [
    {
     "data": {
      "image/png": "[encoded data removed]",
      "text/plain": [
       "<IPython.core.display.Image object>"
      ]
     },
     "execution_count": 24,
     "metadata": {},
     "output_type": "execute_result"
    }
   ],
   "source": [
    "Image('../img/hypotesis.png')"
   ]
  },
  {
   "cell_type": "code",
   "execution_count": 26,
   "metadata": {
    "ExecuteTime": {
     "end_time": "2021-03-26T19:00:27.111353Z",
     "start_time": "2021-03-26T19:00:27.104136Z"
    }
   },
   "outputs": [
    {
     "data": {
      "image/png": "[encoded data removed]",
      "text/plain": [
       "<IPython.core.display.Image object>"
      ]
     },
     "execution_count": 26,
     "metadata": {},
     "output_type": "execute_result"
    }
   ],
   "source": [
    "Image('../img/imc.png')"
   ]
  },
  {
   "cell_type": "markdown",
   "metadata": {},
   "source": [
    "## 2.2 Business Hypothesis List"
   ]
  },
  {
   "cell_type": "markdown",
   "metadata": {},
   "source": [
    "### Pacientes\n",
    "\n",
    "1. Homens tem maior chance de sofrer AVC que as mulheres.\n",
    "2. Pacientes com Idade acima de 40 anos tem maiores chances de sofrer AVC do que pacientes com idade menor que 40 anos.\n",
    "3. Pacientes com peso acima de 80 quilos tem maiores chances de sofrer AVC do que pacientes com peso menor que 80 quilos\n",
    "4. Pacientes com IMC acima de 30  tem maiores chances de sofrer um AVC do que pessoas com IMC menor que 30.\n",
    "5. Pacientes mulheres acima dos 45 anos tem maiores chances de sofrer AVC do que mulheres com menos de 45 anos.\n",
    "6. Pacientes homens acima de 40 anos tem maiores chances de sofrer AVC do que homens com menos de 40 anos.\n",
    "\n",
    "### Hábitos\n",
    "\n",
    "1. Pacientes fumantes tem maiores chances de sofre AVC do que pacientes que não fumam.\n",
    "2. Pacientes que tem consumo de álcool frequente tem maiores chances de sofrer um AVC que não consomem álcool.\n",
    "3. Pacientes que são sedentarios tem maiores chances de sofrer AVC do que pacientes que tem atividade física.\n",
    "\n",
    "\n",
    "### Histórico de saúde\n",
    "\n",
    "1. Pacientes com histórico de doenças cardiácas na familia tendem a ter maiores chances de sofrer AVC do que pacientes que não tem este hitórico.\n",
    "2. Pacientes mulheres que fazem uso de anticoncepcional tem maiores chances de ter AVC do que mulheres que não realizam o uso.\n",
    "3. Pacientes com hipertensão tem maiores chances de sofrer um AVC do que pacientes que não tem hipertensão."
   ]
  },
  {
   "cell_type": "markdown",
   "metadata": {},
   "source": [
    "## 2.3 Final Hypothesis "
   ]
  },
  {
   "cell_type": "code",
   "execution_count": null,
   "metadata": {},
   "outputs": [],
   "source": []
  }
 ],
 "metadata": {
  "kernelspec": {
   "display_name": "Python 3",
   "language": "python",
   "name": "python3"
  },
  "language_info": {
   "codemirror_mode": {
    "name": "ipython",
    "version": 3
   },
   "file_extension": ".py",
   "mimetype": "text/x-python",
   "name": "python",
   "nbconvert_exporter": "python",
   "pygments_lexer": "ipython3",
   "version": "3.8.0"
  }
 },
 "nbformat": 4,
 "nbformat_minor": 4
}
